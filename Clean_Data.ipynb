{
 "cells": [
  {
   "cell_type": "markdown",
   "id": "9f043eed",
   "metadata": {},
   "source": [
    "# Research Top 10 EV Models In Texas"
   ]
  },
  {
   "cell_type": "code",
   "execution_count": 1,
   "id": "b6352fbb",
   "metadata": {},
   "outputs": [],
   "source": [
    "# Import Dependencies\n",
    "import pandas as pd\n",
    "import numpy as np"
   ]
  },
  {
   "cell_type": "code",
   "execution_count": 2,
   "id": "64467e2d",
   "metadata": {},
   "outputs": [
    {
     "name": "stderr",
     "output_type": "stream",
     "text": [
      "/var/folders/fg/v0nvddp96gq_9d0n5y5m60840000gn/T/ipykernel_89442/1244316170.py:2: DtypeWarning: Columns (7) have mixed types. Specify dtype option on import or set low_memory=False.\n",
      "  raw_data = pd.read_csv('Resources/Texas_EVs.csv')\n"
     ]
    },
    {
     "data": {
      "text/html": [
       "<div>\n",
       "<style scoped>\n",
       "    .dataframe tbody tr th:only-of-type {\n",
       "        vertical-align: middle;\n",
       "    }\n",
       "\n",
       "    .dataframe tbody tr th {\n",
       "        vertical-align: top;\n",
       "    }\n",
       "\n",
       "    .dataframe thead th {\n",
       "        text-align: right;\n",
       "    }\n",
       "</style>\n",
       "<table border=\"1\" class=\"dataframe\">\n",
       "  <thead>\n",
       "    <tr style=\"text-align: right;\">\n",
       "      <th></th>\n",
       "      <th>State</th>\n",
       "      <th>ZIP Code</th>\n",
       "      <th>Registration Date</th>\n",
       "      <th>Vehicle Make</th>\n",
       "      <th>Vehicle Model</th>\n",
       "      <th>Vehicle Model Year</th>\n",
       "      <th>Drivetrain Type</th>\n",
       "      <th>Vehicle GVWR Class</th>\n",
       "      <th>Vehicle Category</th>\n",
       "      <th>Vehicle Count</th>\n",
       "      <th>DMV Snapshot ID</th>\n",
       "      <th>DMV Snapshot (Date)</th>\n",
       "      <th>Latest DMV Snapshot Flag</th>\n",
       "    </tr>\n",
       "  </thead>\n",
       "  <tbody>\n",
       "    <tr>\n",
       "      <th>0</th>\n",
       "      <td>TX</td>\n",
       "      <td>78617</td>\n",
       "      <td>10/1/2022</td>\n",
       "      <td>TESLA</td>\n",
       "      <td>MODEL 3</td>\n",
       "      <td>2018</td>\n",
       "      <td>BEV</td>\n",
       "      <td>1</td>\n",
       "      <td>Light-Duty (Class 1-2A)</td>\n",
       "      <td>1</td>\n",
       "      <td>5</td>\n",
       "      <td>DMV Snapshot (1/1/2023)</td>\n",
       "      <td>False</td>\n",
       "    </tr>\n",
       "    <tr>\n",
       "      <th>1</th>\n",
       "      <td>TX</td>\n",
       "      <td>76247</td>\n",
       "      <td>10/1/2022</td>\n",
       "      <td>TESLA</td>\n",
       "      <td>MODEL 3</td>\n",
       "      <td>2018</td>\n",
       "      <td>BEV</td>\n",
       "      <td>1</td>\n",
       "      <td>Light-Duty (Class 1-2A)</td>\n",
       "      <td>1</td>\n",
       "      <td>5</td>\n",
       "      <td>DMV Snapshot (1/1/2023)</td>\n",
       "      <td>False</td>\n",
       "    </tr>\n",
       "    <tr>\n",
       "      <th>2</th>\n",
       "      <td>TX</td>\n",
       "      <td>79407</td>\n",
       "      <td>10/1/2022</td>\n",
       "      <td>TESLA</td>\n",
       "      <td>MODEL 3</td>\n",
       "      <td>2018</td>\n",
       "      <td>BEV</td>\n",
       "      <td>1</td>\n",
       "      <td>Light-Duty (Class 1-2A)</td>\n",
       "      <td>1</td>\n",
       "      <td>5</td>\n",
       "      <td>DMV Snapshot (1/1/2023)</td>\n",
       "      <td>False</td>\n",
       "    </tr>\n",
       "    <tr>\n",
       "      <th>3</th>\n",
       "      <td>TX</td>\n",
       "      <td>78611</td>\n",
       "      <td>10/1/2022</td>\n",
       "      <td>TESLA</td>\n",
       "      <td>MODEL 3</td>\n",
       "      <td>2018</td>\n",
       "      <td>BEV</td>\n",
       "      <td>1</td>\n",
       "      <td>Light-Duty (Class 1-2A)</td>\n",
       "      <td>1</td>\n",
       "      <td>5</td>\n",
       "      <td>DMV Snapshot (1/1/2023)</td>\n",
       "      <td>False</td>\n",
       "    </tr>\n",
       "    <tr>\n",
       "      <th>4</th>\n",
       "      <td>TX</td>\n",
       "      <td>77303</td>\n",
       "      <td>10/1/2022</td>\n",
       "      <td>TESLA</td>\n",
       "      <td>MODEL 3</td>\n",
       "      <td>2018</td>\n",
       "      <td>BEV</td>\n",
       "      <td>1</td>\n",
       "      <td>Light-Duty (Class 1-2A)</td>\n",
       "      <td>1</td>\n",
       "      <td>5</td>\n",
       "      <td>DMV Snapshot (1/1/2023)</td>\n",
       "      <td>False</td>\n",
       "    </tr>\n",
       "  </tbody>\n",
       "</table>\n",
       "</div>"
      ],
      "text/plain": [
       "  State ZIP Code Registration Date Vehicle Make Vehicle Model  \\\n",
       "0    TX    78617         10/1/2022        TESLA       MODEL 3   \n",
       "1    TX    76247         10/1/2022        TESLA       MODEL 3   \n",
       "2    TX    79407         10/1/2022        TESLA       MODEL 3   \n",
       "3    TX    78611         10/1/2022        TESLA       MODEL 3   \n",
       "4    TX    77303         10/1/2022        TESLA       MODEL 3   \n",
       "\n",
       "   Vehicle Model Year Drivetrain Type Vehicle GVWR Class  \\\n",
       "0                2018             BEV                  1   \n",
       "1                2018             BEV                  1   \n",
       "2                2018             BEV                  1   \n",
       "3                2018             BEV                  1   \n",
       "4                2018             BEV                  1   \n",
       "\n",
       "          Vehicle Category  Vehicle Count  DMV Snapshot ID  \\\n",
       "0  Light-Duty (Class 1-2A)              1                5   \n",
       "1  Light-Duty (Class 1-2A)              1                5   \n",
       "2  Light-Duty (Class 1-2A)              1                5   \n",
       "3  Light-Duty (Class 1-2A)              1                5   \n",
       "4  Light-Duty (Class 1-2A)              1                5   \n",
       "\n",
       "       DMV Snapshot (Date)  Latest DMV Snapshot Flag  \n",
       "0  DMV Snapshot (1/1/2023)                     False  \n",
       "1  DMV Snapshot (1/1/2023)                     False  \n",
       "2  DMV Snapshot (1/1/2023)                     False  \n",
       "3  DMV Snapshot (1/1/2023)                     False  \n",
       "4  DMV Snapshot (1/1/2023)                     False  "
      ]
     },
     "execution_count": 2,
     "metadata": {},
     "output_type": "execute_result"
    }
   ],
   "source": [
    "# Load in the dataset\n",
    "raw_data = pd.read_csv('Resources/Texas_EVs.csv')\n",
    "raw_data.head()"
   ]
  },
  {
   "cell_type": "code",
   "execution_count": 3,
   "id": "9cba8180",
   "metadata": {},
   "outputs": [
    {
     "data": {
      "text/plain": [
       "State                       482078\n",
       "ZIP Code                    482078\n",
       "Registration Date           482078\n",
       "Vehicle Make                482078\n",
       "Vehicle Model               482078\n",
       "Vehicle Model Year          482078\n",
       "Drivetrain Type             482078\n",
       "Vehicle GVWR Class          482078\n",
       "Vehicle Category            482078\n",
       "Vehicle Count               482078\n",
       "DMV Snapshot ID             482078\n",
       "DMV Snapshot (Date)         482078\n",
       "Latest DMV Snapshot Flag    482078\n",
       "dtype: int64"
      ]
     },
     "execution_count": 3,
     "metadata": {},
     "output_type": "execute_result"
    }
   ],
   "source": [
    "# Check for null values\n",
    "raw_data.count()"
   ]
  },
  {
   "cell_type": "code",
   "execution_count": 4,
   "id": "adb2f9de",
   "metadata": {},
   "outputs": [],
   "source": [
    "# Rename columns to be easily analyzed by deleting spaces\n",
    "rename_column_df = raw_data.rename(columns = {'ZIP Code': 'ZIP', 'Registration Date' : 'Registration_Date', 'Vehicle Make' : 'Make',\n",
    "                          'Vehicle Model' : 'Model', 'Vehicle Model Year' : 'Vehicle_Year', 'Drivetrain Type' : 'Type'\n",
    "                          ,'Vehicle GVWR Class' : 'GVRW_Class', 'Vehicle Category' : 'Vehicle_Category', \n",
    "                          'DMV Snapshot ID' : 'DMV_ID', 'DMV Snapshot (Date)' : 'DMV_Date', 'Latest DMV Snapshot Flag'\n",
    "                          : 'DMV_Flag'})"
   ]
  },
  {
   "cell_type": "code",
   "execution_count": 5,
   "id": "af9a2f41",
   "metadata": {},
   "outputs": [
    {
     "data": {
      "text/plain": [
       "array(['BEV', 'PHEV'], dtype=object)"
      ]
     },
     "execution_count": 5,
     "metadata": {},
     "output_type": "execute_result"
    }
   ],
   "source": [
    "# View the different 'Drivetrain Type' values\n",
    "rename_column_df.Type.unique()"
   ]
  },
  {
   "cell_type": "code",
   "execution_count": 12,
   "id": "c9edd680",
   "metadata": {},
   "outputs": [
    {
     "data": {
      "text/plain": [
       "array(['BEV'], dtype=object)"
      ]
     },
     "execution_count": 12,
     "metadata": {},
     "output_type": "execute_result"
    }
   ],
   "source": [
    "# Rename DataFrame\n",
    "EV_df = rename_column_df\n",
    "# Keep only BEV\n",
    "EV_df.drop(rename_column_df[rename_column_df['Type'] == 'PHEV'].index, inplace = True)\n",
    "\n",
    "# Check the unique types again\n",
    "EV_df.Type.unique()"
   ]
  },
  {
   "cell_type": "code",
   "execution_count": 13,
   "id": "ca208538",
   "metadata": {},
   "outputs": [
    {
     "data": {
      "text/plain": [
       "array(['MODEL 3', 'MODEL S', 'MODEL Y', 'ROADSTER', 'BOLT INCOMPLETE',\n",
       "       'SPARK', 'BOLT EUV', 'BOLT EV', 'MUSTANG MACH-E', 'FOCUS',\n",
       "       'RANGER', 'I4', 'I3', 'RAV4', 'BZ4X', 'GEM', 'EXV', 'WHEEGO',\n",
       "       'ZX40ST', 'TRANSIT CONNECT ELECTRIC', 'CODA', 'I-MIEV', 'B-CLASS',\n",
       "       'SOUL', 'E-GOLF', 'HARDTOP', 'IONIQ 5', 'RZ 450E', 'ARIYA', 'PS2',\n",
       "       'I-PACE', 'GV60', 'SOLTERRA', 'XC40 RECHARGE', 'C40',\n",
       "       'EQE-CLASS SEDAN', 'E-TRON GT', 'NIRO', 'ID.4', 'AIR',\n",
       "       'RS E-TRON GT', 'EV6', 'XC40', 'FORTWO ELECTRIC DRIVE', 'FORTWO',\n",
       "       'IONIQ', 'CLARITY', 'SOUL EV', 'TAYCAN', 'KONA', 'ASPHALT',\n",
       "       'EQ FORTWO', '500', 'IONIQ 6', 'G80', 'KONA ELECTRIC', 'MX-30',\n",
       "       'LEAF', 'MODEL X', 'E-TRON', 'E-TRON SPORTBACK', 'IX', 'Q8',\n",
       "       'F-150', 'EQS-CLASS SUV', 'LYRIQ', 'EQS-CLASS SEDAN', 'Q4',\n",
       "       'EQB-CLASS', 'GV70', 'EQE-CLASS SUV', 'R1T', 'R1S', 'TRANSIT',\n",
       "       'HUMMER EV PICKUP', 'EDV', '375', 'OTTAWA', 'VNR', 'MV60E',\n",
       "       'XCELSIOR', 'YT', 'COOPER SE HARDTOP 2 DOOR', 'THINK NEIGHBOR',\n",
       "       'FEC7US / ECANTER', 'MILES ZX40ST', 'SV05', 'LOW FLOOR BUS'],\n",
       "      dtype=object)"
      ]
     },
     "execution_count": 13,
     "metadata": {},
     "output_type": "execute_result"
    }
   ],
   "source": [
    "# View the unique models in Texas\n",
    "EV_df.Model.unique()"
   ]
  },
  {
   "cell_type": "code",
   "execution_count": 14,
   "id": "5131fcd7",
   "metadata": {},
   "outputs": [
    {
     "data": {
      "text/html": [
       "<div>\n",
       "<style scoped>\n",
       "    .dataframe tbody tr th:only-of-type {\n",
       "        vertical-align: middle;\n",
       "    }\n",
       "\n",
       "    .dataframe tbody tr th {\n",
       "        vertical-align: top;\n",
       "    }\n",
       "\n",
       "    .dataframe thead th {\n",
       "        text-align: right;\n",
       "    }\n",
       "</style>\n",
       "<table border=\"1\" class=\"dataframe\">\n",
       "  <thead>\n",
       "    <tr style=\"text-align: right;\">\n",
       "      <th></th>\n",
       "      <th>Model</th>\n",
       "      <th>Frequency</th>\n",
       "    </tr>\n",
       "  </thead>\n",
       "  <tbody>\n",
       "    <tr>\n",
       "      <th>MODEL 3</th>\n",
       "      <td>106408</td>\n",
       "      <td>NaN</td>\n",
       "    </tr>\n",
       "    <tr>\n",
       "      <th>MODEL S</th>\n",
       "      <td>56481</td>\n",
       "      <td>NaN</td>\n",
       "    </tr>\n",
       "    <tr>\n",
       "      <th>MODEL Y</th>\n",
       "      <td>47764</td>\n",
       "      <td>NaN</td>\n",
       "    </tr>\n",
       "    <tr>\n",
       "      <th>MODEL X</th>\n",
       "      <td>29335</td>\n",
       "      <td>NaN</td>\n",
       "    </tr>\n",
       "    <tr>\n",
       "      <th>LEAF</th>\n",
       "      <td>21393</td>\n",
       "      <td>NaN</td>\n",
       "    </tr>\n",
       "    <tr>\n",
       "      <th>BOLT EV</th>\n",
       "      <td>13324</td>\n",
       "      <td>NaN</td>\n",
       "    </tr>\n",
       "    <tr>\n",
       "      <th>MUSTANG MACH-E</th>\n",
       "      <td>7929</td>\n",
       "      <td>NaN</td>\n",
       "    </tr>\n",
       "    <tr>\n",
       "      <th>E-TRON</th>\n",
       "      <td>5109</td>\n",
       "      <td>NaN</td>\n",
       "    </tr>\n",
       "    <tr>\n",
       "      <th>TAYCAN</th>\n",
       "      <td>4345</td>\n",
       "      <td>NaN</td>\n",
       "    </tr>\n",
       "    <tr>\n",
       "      <th>I3</th>\n",
       "      <td>4128</td>\n",
       "      <td>NaN</td>\n",
       "    </tr>\n",
       "  </tbody>\n",
       "</table>\n",
       "</div>"
      ],
      "text/plain": [
       "                 Model Frequency\n",
       "MODEL 3         106408       NaN\n",
       "MODEL S          56481       NaN\n",
       "MODEL Y          47764       NaN\n",
       "MODEL X          29335       NaN\n",
       "LEAF             21393       NaN\n",
       "BOLT EV          13324       NaN\n",
       "MUSTANG MACH-E    7929       NaN\n",
       "E-TRON            5109       NaN\n",
       "TAYCAN            4345       NaN\n",
       "I3                4128       NaN"
      ]
     },
     "execution_count": 14,
     "metadata": {},
     "output_type": "execute_result"
    }
   ],
   "source": [
    "# Get the top ten models that appear the most\n",
    "frequency_df = EV_df['Model'].value_counts()\n",
    "\n",
    "# View the df\n",
    "frequency_df = pd.DataFrame(frequency_df, columns = ['Model', 'Frequency'])\n",
    "\n",
    "# View the top 10 models\n",
    "frequency_df.head(10)"
   ]
  },
  {
   "cell_type": "code",
   "execution_count": 15,
   "id": "d4ab0193",
   "metadata": {},
   "outputs": [],
   "source": [
    "# Add pricing for the top 10 models based on 2023 prices\n",
    "EV_df.loc[EV_df['Model'] == 'MODEL 3', 'Base_MSRP'] = 40240\n",
    "EV_df.loc[EV_df['Model'] == 'MODEL S', 'Base_MSRP'] = 78490\n",
    "EV_df.loc[EV_df['Model'] == 'MODEL Y', 'Base_MSRP'] = 47740\n",
    "EV_df.loc[EV_df['Model'] == 'MODEL X', 'Base_MSRP'] = 88490\n",
    "EV_df.loc[EV_df['Model'] == 'LEAF', 'Base_MSRP'] = 29985\n",
    "EV_df.loc[EV_df['Model'] == 'BOLT EV', 'Base_MSRP'] = 26700\n",
    "EV_df.loc[EV_df['Model'] == 'MUSTANG MACH-E', 'Base_MSRP'] = 42995\n",
    "EV_df.loc[EV_df['Model'] == 'E-TRON', 'Base_MSRP'] = 74400\n",
    "EV_df.loc[EV_df['Model'] == 'TAYCAN', 'Base_MSRP'] = 86700\n",
    "EV_df.loc[EV_df['Model'] == 'I3', 'Base_MSRP'] = 29505"
   ]
  },
  {
   "cell_type": "code",
   "execution_count": 17,
   "id": "e846d437",
   "metadata": {},
   "outputs": [],
   "source": [
    "# Add mileage for each Model\n",
    "EV_df.loc[EV_df['Model'] == 'MODEL 3', 'Base_Range'] = 272\n",
    "EV_df.loc[EV_df['Model'] == 'MODEL S', 'Base_Range'] = 320\n",
    "EV_df.loc[EV_df['Model'] == 'MODEL Y', 'Base_Range'] = 279\n",
    "EV_df.loc[EV_df['Model'] == 'MODEL X', 'Base_Range'] = 269\n",
    "EV_df.loc[EV_df['Model'] == 'LEAF', 'Base_Range'] = 149\n",
    "EV_df.loc[EV_df['Model'] == 'BOLT EV', 'Base_Range'] = 259\n",
    "EV_df.loc[EV_df['Model'] == 'MUSTANG MACH-E', 'Base_Range'] = 321\n",
    "EV_df.loc[EV_df['Model'] == 'E-TRON', 'Base_Range'] = 226\n",
    "EV_df.loc[EV_df['Model'] == 'TAYCAN', 'Base_Range'] = 225\n",
    "EV_df.loc[EV_df['Model'] == 'I3', 'Base_Range'] = 153"
   ]
  },
  {
   "cell_type": "code",
   "execution_count": 18,
   "id": "e6da75d3",
   "metadata": {},
   "outputs": [
    {
     "data": {
      "text/plain": [
       "State                336511\n",
       "ZIP                  336511\n",
       "Registration_Date    336511\n",
       "Make                 336511\n",
       "Model                336511\n",
       "Vehicle_Year         336511\n",
       "Type                 336511\n",
       "GVRW_Class           336511\n",
       "Vehicle_Category     336511\n",
       "Vehicle Count        336511\n",
       "DMV_ID               336511\n",
       "DMV_Date             336511\n",
       "DMV_Flag             336511\n",
       "Base_MSRP            296216\n",
       "Base_Range           296216\n",
       "dtype: int64"
      ]
     },
     "execution_count": 18,
     "metadata": {},
     "output_type": "execute_result"
    }
   ],
   "source": [
    "# View count to make sure everything lines up\n",
    "EV_df.count()"
   ]
  },
  {
   "cell_type": "code",
   "execution_count": 19,
   "id": "bd56bc77",
   "metadata": {},
   "outputs": [
    {
     "data": {
      "text/plain": [
       "State                296216\n",
       "ZIP                  296216\n",
       "Registration_Date    296216\n",
       "Make                 296216\n",
       "Model                296216\n",
       "Vehicle_Year         296216\n",
       "Type                 296216\n",
       "GVRW_Class           296216\n",
       "Vehicle_Category     296216\n",
       "Vehicle Count        296216\n",
       "DMV_ID               296216\n",
       "DMV_Date             296216\n",
       "DMV_Flag             296216\n",
       "Base_MSRP            296216\n",
       "Base_Range           296216\n",
       "dtype: int64"
      ]
     },
     "execution_count": 19,
     "metadata": {},
     "output_type": "execute_result"
    }
   ],
   "source": [
    "# Drop null values\n",
    "final_EV_df = EV_df.dropna()\n",
    "\n",
    "# Get a new count and should match the count of the new columns\n",
    "final_EV_df.count()"
   ]
  },
  {
   "cell_type": "code",
   "execution_count": 20,
   "id": "c8a935f8",
   "metadata": {},
   "outputs": [],
   "source": [
    "# Download the data\n",
    "final_EV_df.to_csv('Resources/Final_Texas_EV.csv')"
   ]
  },
  {
   "cell_type": "code",
   "execution_count": null,
   "id": "8cc3fd68",
   "metadata": {},
   "outputs": [],
   "source": []
  }
 ],
 "metadata": {
  "kernelspec": {
   "display_name": "Python 3 (ipykernel)",
   "language": "python",
   "name": "python3"
  },
  "language_info": {
   "codemirror_mode": {
    "name": "ipython",
    "version": 3
   },
   "file_extension": ".py",
   "mimetype": "text/x-python",
   "name": "python",
   "nbconvert_exporter": "python",
   "pygments_lexer": "ipython3",
   "version": "3.10.9"
  }
 },
 "nbformat": 4,
 "nbformat_minor": 5
}
